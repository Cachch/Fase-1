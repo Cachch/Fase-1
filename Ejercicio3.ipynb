{
 "cells": [
  {
   "cell_type": "code",
   "execution_count": null,
   "id": "f0daa88b-dc6a-429e-abaf-e8e6e09efd8a",
   "metadata": {},
   "outputs": [],
   "source": [
    "# Ejercicio 3; Imprimir por pantalla los 15 numeros usando For\n",
    "\n",
    "for i in range(1,16): # Bucle for in range 1 to 16\n",
    "    print(i)"
   ]
  }
 ],
 "metadata": {
  "kernelspec": {
   "display_name": "Python 3 (ipykernel)",
   "language": "python",
   "name": "python3"
  },
  "language_info": {
   "codemirror_mode": {
    "name": "ipython",
    "version": 3
   },
   "file_extension": ".py",
   "mimetype": "text/x-python",
   "name": "python",
   "nbconvert_exporter": "python",
   "pygments_lexer": "ipython3",
   "version": "3.9.12"
  }
 },
 "nbformat": 4,
 "nbformat_minor": 5
}
