{
 "cells": [
  {
   "cell_type": "code",
   "execution_count": 2,
   "id": "7de98cf4-84c2-4f52-bb9d-87e4170b08cb",
   "metadata": {},
   "outputs": [
    {
     "name": "stdout",
     "output_type": "stream",
     "text": [
      "La cantidad total de las palabras: 8\n",
      "La cantidad total de Digitos: 2\n",
      "La cantidad total del caracteres especiales: 6\n"
     ]
    }
   ],
   "source": [
    "#Ejercicio 8: Intentar ser compatible con la cantidad de letras, digitos y simbolos especiales de la lista dada ----> String = [&#Pr@j3ctE#D4M#&]\n",
    "String = \"&#Pr@j3ctE#D4M#&\"\n",
    "alphabets = digits = special = 0\n",
    "\n",
    "for i in range(len(String)): # Bucle for Range in String\n",
    "    if(String[i].isalpha()):\n",
    "        alphabets = alphabets + 1 # Total Alphabets\n",
    "    elif(String[i].isdigit()):\n",
    "        digits = digits + 1 # Total Digits\n",
    "    else:\n",
    "        special = special + 1 # Total Specials\n",
    "\n",
    "#Devuelve la cantidad total de letras, digitos y caracteres especiales\n",
    "print(\"La cantidad total de las palabras:\", alphabets)\n",
    "print(\"La cantidad total de Digitos:\", digits)\n",
    "print(\"La cantidad total del caracteres especiales:\", special)"
   ]
  },
  {
   "cell_type": "code",
   "execution_count": null,
   "id": "c2070dc6-06de-4408-8b58-2103d3f6f1b2",
   "metadata": {},
   "outputs": [],
   "source": []
  }
 ],
 "metadata": {
  "kernelspec": {
   "display_name": "Python 3 (ipykernel)",
   "language": "python",
   "name": "python3"
  },
  "language_info": {
   "codemirror_mode": {
    "name": "ipython",
    "version": 3
   },
   "file_extension": ".py",
   "mimetype": "text/x-python",
   "name": "python",
   "nbconvert_exporter": "python",
   "pygments_lexer": "ipython3",
   "version": "3.9.12"
  }
 },
 "nbformat": 4,
 "nbformat_minor": 5
}
