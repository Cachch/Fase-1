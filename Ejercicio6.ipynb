{
 "cells": [
  {
   "cell_type": "code",
   "execution_count": null,
   "id": "915da215-e33b-4cd8-b11f-280c817cc324",
   "metadata": {},
   "outputs": [],
   "source": [
    "#Ejercicio 6: Dar una lista y imprimir de manera invertida\n",
    "\n",
    "lista = [20, 60, 80, 100] # Array de la Lista\n",
    "\n",
    "lista.reverse() # Metodo llamado Reverse\n",
    "\n",
    "print(\"Lista invertida:\", lista) # Devolver el metodo"
   ]
  }
 ],
 "metadata": {
  "kernelspec": {
   "display_name": "Python 3 (ipykernel)",
   "language": "python",
   "name": "python3"
  },
  "language_info": {
   "codemirror_mode": {
    "name": "ipython",
    "version": 3
   },
   "file_extension": ".py",
   "mimetype": "text/x-python",
   "name": "python",
   "nbconvert_exporter": "python",
   "pygments_lexer": "ipython3",
   "version": "3.9.12"
  }
 },
 "nbformat": 4,
 "nbformat_minor": 5
}
