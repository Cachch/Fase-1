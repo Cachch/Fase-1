{
 "cells": [
  {
   "cell_type": "code",
   "execution_count": 1,
   "id": "74362e20-7a9e-4c12-8c20-a57490ab44cb",
   "metadata": {},
   "outputs": [
    {
     "name": "stdout",
     "output_type": "stream",
     "text": [
      "300\n"
     ]
    }
   ],
   "source": [
    "#Ejercicio 1: Calcular la multiplicacion y la suma de los dos numeros. Devolver su producto si es igual o inferior a 1000, si no, devuelve la suma\n",
    "Num1 = 15\n",
    "Num2 = 20\n",
    "# Las dos operaciones: Multiplicacion y Suma\n",
    "Multip = Num1*Num2\n",
    "Suma = Num1+Num2\n",
    "\n",
    "if Multip <= 1000: # Devolver el producto si es igual o inferior a 1000. Si no hace, solo devuelve la suma\n",
    "    print(Multip)\n",
    "else:\n",
    "    print(Suma)"
   ]
  },
  {
   "cell_type": "code",
   "execution_count": null,
   "id": "2873de3d-81e7-4bf7-af8c-040d72cd3d63",
   "metadata": {},
   "outputs": [],
   "source": []
  }
 ],
 "metadata": {
  "kernelspec": {
   "display_name": "Python 3 (ipykernel)",
   "language": "python",
   "name": "python3"
  },
  "language_info": {
   "codemirror_mode": {
    "name": "ipython",
    "version": 3
   },
   "file_extension": ".py",
   "mimetype": "text/x-python",
   "name": "python",
   "nbconvert_exporter": "python",
   "pygments_lexer": "ipython3",
   "version": "3.9.12"
  }
 },
 "nbformat": 4,
 "nbformat_minor": 5
}
