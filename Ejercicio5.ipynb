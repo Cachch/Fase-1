{
 "cells": [
  {
   "cell_type": "code",
   "execution_count": null,
   "id": "ea36fe30-0c62-4ba3-9dac-397950da8a26",
   "metadata": {},
   "outputs": [],
   "source": [
    "#Ejercicio 5: Escribe un programa que haga una tabla de multiplicar\n",
    "\n",
    "numero =int(input('Diga un numero: ')) # Introducir por teclado el numero\n",
    "\n",
    "for i in range(1,11): # Un for para el rango de una tabla de multiplicar\n",
    "    print(f'{i} x {numero} = {i * numero}')  # Mostrar el mensaje de la multiplicacion"
   ]
  }
 ],
 "metadata": {
  "kernelspec": {
   "display_name": "Python 3 (ipykernel)",
   "language": "python",
   "name": "python3"
  },
  "language_info": {
   "codemirror_mode": {
    "name": "ipython",
    "version": 3
   },
   "file_extension": ".py",
   "mimetype": "text/x-python",
   "name": "python",
   "nbconvert_exporter": "python",
   "pygments_lexer": "ipython3",
   "version": "3.9.12"
  }
 },
 "nbformat": 4,
 "nbformat_minor": 5
}
