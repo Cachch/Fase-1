{
 "cells": [
  {
   "cell_type": "code",
   "execution_count": null,
   "id": "7a8f1f8e-1f71-4da3-8eaf-4c77d9ddf35e",
   "metadata": {},
   "outputs": [],
   "source": [
    "numero = int(input(\"Introduce un numero:\"))\n",
    "print (int (numero *(numero +1) /2))"
   ]
  }
 ],
 "metadata": {
  "kernelspec": {
   "display_name": "Python 3 (ipykernel)",
   "language": "python",
   "name": "python3"
  },
  "language_info": {
   "codemirror_mode": {
    "name": "ipython",
    "version": 3
   },
   "file_extension": ".py",
   "mimetype": "text/x-python",
   "name": "python",
   "nbconvert_exporter": "python",
   "pygments_lexer": "ipython3",
   "version": "3.9.12"
  }
 },
 "nbformat": 4,
 "nbformat_minor": 5
}
