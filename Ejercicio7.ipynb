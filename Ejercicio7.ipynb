{
 "cells": [
  {
   "cell_type": "code",
   "execution_count": 1,
   "id": "b85d6947-625e-4c15-ba76-aa6ed86646e6",
   "metadata": {},
   "outputs": [
    {
     "name": "stdout",
     "output_type": "stream",
     "text": [
      "El maximo Valor: 600\n"
     ]
    }
   ],
   "source": [
    "#Ejercicio 7: Encontrar el elemento mas grande de una lista de numeros.\n",
    "numero = [20,50,120,190,250,325,450,500,600] # Los numeros que hay en total\n",
    "\n",
    "max_value = max(numero) # Variable max_value\n",
    "print (\"El maximo Valor:\",max_value) # Devuelve el valor maximo en total"
   ]
  },
  {
   "cell_type": "code",
   "execution_count": null,
   "id": "2d8d16b1-1013-40f5-8d26-e40329cf6a89",
   "metadata": {},
   "outputs": [],
   "source": []
  }
 ],
 "metadata": {
  "kernelspec": {
   "display_name": "Python 3 (ipykernel)",
   "language": "python",
   "name": "python3"
  },
  "language_info": {
   "codemirror_mode": {
    "name": "ipython",
    "version": 3
   },
   "file_extension": ".py",
   "mimetype": "text/x-python",
   "name": "python",
   "nbconvert_exporter": "python",
   "pygments_lexer": "ipython3",
   "version": "3.9.12"
  }
 },
 "nbformat": 4,
 "nbformat_minor": 5
}
